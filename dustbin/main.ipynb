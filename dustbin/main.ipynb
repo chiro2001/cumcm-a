{
 "cells": [
  {
   "cell_type": "markdown",
   "source": [
    "# cumcm-a"
   ],
   "metadata": {}
  },
  {
   "cell_type": "markdown",
   "source": [
    "## 准备阶段\r\n",
    "\r\n",
    "### 数据读取"
   ],
   "metadata": {}
  },
  {
   "cell_type": "code",
   "execution_count": null,
   "source": [],
   "outputs": [],
   "metadata": {}
  },
  {
   "cell_type": "code",
   "execution_count": 32,
   "source": [
    "# 测试地方\r\n",
    "\r\n",
    "from sympy import *\r\n",
    "a = Symbol('a')\r\n",
    "b = Symbol('b')\r\n",
    "c = Symbol('c')\r\n",
    "# m = Matrix([0, 0, 0])\r\n",
    "m = Matrix([a, b, c])\r\n",
    "# m = MatrixSymbol('m', 3, 1)\r\n",
    "d = Matrix([2, 4, 6])\r\n",
    "# l = Symbol('l')\r\n",
    "# solve([m * l - a], [l, ])\r\n",
    "# solve([Matrix([a, b, c]) * 2 - d, ], [a, b, c, ])\r\n",
    "solve([m * 2 - d, ], [a, b, c, ])\r\n",
    "# solve([m * 2 - d], [m, ])"
   ],
   "outputs": [
    {
     "output_type": "execute_result",
     "data": {
      "text/plain": [
       "[]"
      ]
     },
     "metadata": {},
     "execution_count": 32
    }
   ],
   "metadata": {}
  },
  {
   "cell_type": "code",
   "execution_count": 3,
   "source": [
    "import numpy as np\r\n",
    "import pandas as pd\r\n",
    "\r\n",
    "# 主索节点的坐标和编号\r\n",
    "data1 = pd.read_csv(\"data/附件1.csv\", encoding='ANSI')\r\n",
    "# print('主索节点的坐标和编号:\\n', data1)\r\n",
    "nodes_data = {}\r\n",
    "for d in data1.itertuples():\r\n",
    "    nodes_data[d[1]] = {\r\n",
    "        # 'position': tuple(d[2:]),\r\n",
    "        'position_raw': np.array(d[2:]),\r\n",
    "        'position': np.array(d[2:]),\r\n",
    "        # 伸缩量，即所有需要求解的变量\r\n",
    "        'expand': 0\r\n",
    "    }\r\n",
    "\r\n",
    "# 促动器下端点（地锚点）坐标、\r\n",
    "# 基准态时上端点（顶端）的坐标，\r\n",
    "# 以及促动器对应的主索节点编号\r\n",
    "data2 = pd.read_csv(\"data/附件2.csv\", encoding='ANSI')\r\n",
    "# print('data2:\\n', data2)\r\n",
    "for d in data2.itertuples():\r\n",
    "    nodes_data[d[1]]['actuactor_head'] = np.array(d[2:5])\r\n",
    "    nodes_data[d[1]]['actuactor_base'] = np.array(d[5:8])\r\n",
    "\r\n",
    "# print(nodes_data)\r\n",
    "\r\n",
    "triangles_data = []\r\n",
    "\r\n",
    "# 反射面板对应的主索节点编号\r\n",
    "data3 = pd.read_csv(\"data/附件3.csv\", encoding='ANSI')\r\n",
    "# print('data3:\\n', data3)\r\n",
    "for d in data3.itertuples():\r\n",
    "    triangles_data.append(tuple(d[1:]))\r\n",
    "\r\n",
    "# print(triangles_data)\r\n"
   ],
   "outputs": [],
   "metadata": {}
  },
  {
   "cell_type": "markdown",
   "source": [
    "### 测试绘图\r\n",
    "\r\n",
    "绘制点的函数"
   ],
   "metadata": {}
  },
  {
   "cell_type": "code",
   "execution_count": 71,
   "source": [
    "import matplotlib.pyplot as plt\r\n",
    "import numpy as np\r\n",
    "from sympy import *\r\n",
    "\r\n",
    "\r\n",
    "# 绘制当前图像\r\n",
    "def draw_points(points: np.ndarray = None, nodes_data_: dict = nodes_data):\r\n",
    "    if points is None:\r\n",
    "        points = to_points(nodes_data_=nodes_data_)\r\n",
    "    ax = plt.axes(projection='3d')\r\n",
    "    plt.xlim(-400, 400)\r\n",
    "    plt.ylim(-400, 400)\r\n",
    "    ax.set_zlim(-400, 0)\r\n",
    "    ax.scatter3D(points.T[0], points.T[1], points.T[2], c=\"g\", marker='.')\r\n",
    "    points2 = to_points(nodes_data_=nodes_data_, dict_key='actuactor_head')\r\n",
    "    ax.scatter3D(points2.T[0], points2.T[1], points2.T[2], c=\"c\", marker='.')\r\n",
    "    points3 = to_points(nodes_data_=nodes_data_, dict_key='actuactor_base')\r\n",
    "    ax.scatter3D(points3.T[0], points3.T[1], points3.T[2], c='m', marker='.')\r\n",
    "    plt.show()\r\n",
    "\r\n",
    "\r\n",
    "# 拿到单位方向向量(pt1 -> pt2)\r\n",
    "def get_unit_vector(pt1: np.ndarray, pt2: np.ndarray) -> np.ndarray:\r\n",
    "    a = pt2 - pt1\r\n",
    "    n = a / np.sqrt(a[0] ** 2 + a[1] ** 2 + a[2] ** 2)\r\n",
    "    return n\r\n",
    "\r\n",
    "\r\n",
    "# 计算在当前伸缩值状态下，主索节点的位置(position)\r\n",
    "def update_expand(nodes_data_: dict = nodes_data):\r\n",
    "    for name in nodes_data_:\r\n",
    "        node = nodes_data_[name]\r\n",
    "        # 用促动器下端坐标和最初的主索节点位置确定方向向量，计算伸缩量\r\n",
    "        n = get_unit_vector(node['position_raw'], node['actuactor_base'])\r\n",
    "        # 更新 position\r\n",
    "        node['position'] = node['position_raw'] + n * node['expand']\r\n",
    "\r\n",
    "\r\n",
    "# 三个点确定一个平面\r\n",
    "def triangle_to_plane(triangle: tuple) -> np.ndarray:\r\n",
    "    points = [nodes_data[code]['position'] for code in triangle]\r\n",
    "    # Ax + By + Cz + D = 0\r\n",
    "    A = (points[2][1] - points[0][1]) * (points[2][2] - points[0][2]) - \\\r\n",
    "        (points[1][2] - points[0][2]) * (points[2][1] - points[0][1])\r\n",
    "    B = (points[2][0] - points[0][0]) * (points[1][2] - points[0][2]) - \\\r\n",
    "        (points[1][0] - points[0][0]) * (points[2][2] - points[0][2])\r\n",
    "    C = (points[1][0] - points[0][0]) * (points[2][1] - points[0][1]) - \\\r\n",
    "        (points[2][0] - points[0][0]) * (points[1][1] - points[0][1])\r\n",
    "    D = -(A * points[0][0] + B * points[0][1] + C * points[0][2])\r\n",
    "    return np.array((A, B, C, D))\r\n",
    "\r\n",
    "\r\n",
    "# 求点到平面的对称点\r\n",
    "def plane_symmetry_point(plane: np.ndarray, point: np.ndarray) -> np.ndarray:\r\n",
    "    A, B, C, D = plane\r\n",
    "    # x1, y1, z1 = point\r\n",
    "    x2, y2, z2 = Symbol('x2'), Symbol('y2'), Symbol('z2')\r\n",
    "    # ((x1 + x2) / 2, (y1 + y2) / 2, (z1 + z2) / 2)\r\n",
    "    # (x1 + x2) / 2 * A + (y1 + y2) / 2 * B + (z1 + z2) / 2 * C + D = 0\r\n",
    "    # (x1 + x2) * A + (y1 + y2) * B + (z1 + z2) * C + 2 * D = 0\r\n",
    "    # (p - point) == l * (A, B, C)\r\n",
    "    l = Symbol('l')\r\n",
    "    print(Matrix(point).shape)\r\n",
    "    print(Matrix([x2, y2, z2]).shape)\r\n",
    "    print(Matrix([A, B, C]).shape)\r\n",
    "    result = solve([Matrix(point) - Matrix([x2, y2, z2]) - l * Matrix([A, B, C]), \r\n",
    "                    np.dot(np.array(point) + np.array([x2, y2, z2]), np.array([A, B, C])) + 2 * D], [x2, y2, z2, l])\r\n",
    "    # print(result, type(result))\r\n",
    "    return np.array([result[x2], result[y2], result[z2]])\r\n",
    "\r\n",
    "\r\n",
    "# 转换数据到坐标\r\n",
    "def to_points(nodes_data_: dict = nodes_data, dict_key: str = 'position') -> np.ndarray:\r\n",
    "    points = []\r\n",
    "    for name in nodes_data_:\r\n",
    "        node = nodes_data_[name]\r\n",
    "        points.append(node[dict_key])\r\n",
    "    return np.array(points)\r\n",
    "\r\n",
    "\r\n",
    "draw_points()\r\n",
    "# print(plane_symmetry_point([1, 1, 1, 0], [2, 2, 2]))\r\n"
   ],
   "outputs": [
    {
     "output_type": "display_data",
     "data": {
      "image/png": "[encoded data removed]",
      "text/plain": [
       "<Figure size 432x288 with 1 Axes>"
      ]
     },
     "metadata": {
      "needs_background": "light"
     }
    }
   ],
   "metadata": {}
  }
 ],
 "metadata": {
  "kernelspec": {
   "name": "conda-root-py",
   "display_name": "Python [conda env:root] *",
   "language": "python"
  },
  "interpreter": {
   "hash": "7f5b2e08958ffeade19b2a6aeda09d573122a78638bbc56ee6426953c537113a"
  },
  "language_info": {
   "name": "python",
   "version": "3.8.8",
   "mimetype": "text/x-python",
   "codemirror_mode": {
    "name": "ipython",
    "version": 3
   },
   "pygments_lexer": "ipython3",
   "nbconvert_exporter": "python",
   "file_extension": ".py"
  }
 },
 "nbformat": 4,
 "nbformat_minor": 4
}